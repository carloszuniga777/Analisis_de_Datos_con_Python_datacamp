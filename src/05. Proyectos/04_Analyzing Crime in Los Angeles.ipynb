{
 "cells": [
  {
   "cell_type": "markdown",
   "id": "31ab2131-3049-4d8d-b9dc-d195f72af27a",
   "metadata": {},
   "source": [
    "![Los Angeles skyline](../../archivos/la_skyline.jpg)\n",
    "\n",
    "Los Angeles, California 😎. The City of Angels. Tinseltown. The Entertainment Capital of the World! \n",
    "\n",
    "Known for its warm weather, palm trees, sprawling coastline, and Hollywood, along with producing some of the most iconic films and songs. However, as with any highly populated city, it isn't always glamorous and there can be a large volume of crime. That's where you can help!\n",
    "\n",
    "You have been asked to support the Los Angeles Police Department (LAPD) by analyzing crime data to identify patterns in criminal behavior. They plan to use your insights to allocate resources effectively to tackle various crimes in different areas.\n",
    "\n",
    "## The Data\n",
    "\n",
    "They have provided you with a single dataset to use. A summary and preview are provided below.\n",
    "\n",
    "It is a modified version of the original data, which is publicly available from Los Angeles Open Data.\n",
    "\n",
    "# crimes.csv\n",
    "\n",
    "| Column     | Description              |\n",
    "|------------|--------------------------|\n",
    "| `'DR_NO'` | Division of Records Number: Official file number made up of a 2-digit year, area ID, and 5 digits. |\n",
    "| `'Date Rptd'` | Date reported - MM/DD/YYYY. |\n",
    "| `'DATE OCC'` | Date of occurrence - MM/DD/YYYY. |\n",
    "| `'TIME OCC'` | In 24-hour military time. |\n",
    "| `'AREA NAME'` | The 21 Geographic Areas or Patrol Divisions are also given a name designation that references a landmark or the surrounding community that it is responsible for. For example, the 77th Street Division is located at the intersection of South Broadway and 77th Street, serving neighborhoods in South Los Angeles. |\n",
    "| `'Crm Cd Desc'` | Indicates the crime committed. |\n",
    "| `'Vict Age'` | Victim's age in years. |\n",
    "| `'Vict Sex'` | Victim's sex: `F`: Female, `M`: Male, `X`: Unknown. |\n",
    "| `'Vict Descent'` | Victim's descent:<ul><li>`A` - Other Asian</li><li>`B` - Black</li><li>`C` - Chinese</li><li>`D` - Cambodian</li><li>`F` - Filipino</li><li>`G` - Guamanian</li><li>`H` - Hispanic/Latin/Mexican</li><li>`I` - American Indian/Alaskan Native</li><li>`J` - Japanese</li><li>`K` - Korean</li><li>`L` - Laotian</li><li>`O` - Other</li><li>`P` - Pacific Islander</li><li>`S` - Samoan</li><li>`U` - Hawaiian</li><li>`V` - Vietnamese</li><li>`W` - White</li><li>`X` - Unknown</li><li>`Z` - Asian Indian</li> |\n",
    "| `'Weapon Desc'` | Description of the weapon used (if applicable). |\n",
    "| `'Status Desc'` | Crime status. |\n",
    "| `'LOCATION'` | Street address of the crime. |"
   ]
  },
  {
   "cell_type": "code",
   "execution_count": 10,
   "id": "7c6c3c36-5c8b-4cce-8681-95292b8f0861",
   "metadata": {
    "executionCancelledAt": null,
    "executionTime": 352,
    "lastExecutedAt": 1753221712754,
    "lastExecutedByKernel": "6615b38a-f12e-4ab3-ac41-29bdd80e2ab1",
    "lastScheduledRunId": null,
    "lastSuccessfullyExecutedCode": "# Re-run this cell\n# Import required libraries\nimport pandas as pd\nimport numpy as np\nimport matplotlib.pyplot as plt\nimport seaborn as sns\ncrimes = pd.read_csv(\"crimes.csv\", parse_dates=['Date Rptd', 'DATE OCC'], dtype={\"TIME OCC\": str} )\ncrimes.head()",
    "outputsMetadata": {
     "0": {
      "chartState": {
       "chartModel": {
        "cellRange": {
         "columns": [],
         "rowEndIndex": null,
         "rowEndPinned": null,
         "rowStartIndex": null,
         "rowStartPinned": null
        },
        "chartId": "id-pb1mm6w9tx",
        "chartOptions": {
         "common": {
          "animation": {
           "enabled": true
          }
         }
        },
        "chartPalette": {
         "altDown": {
          "fill": "#ffa03a",
          "stroke": "#cc6f10"
         },
         "altNeutral": {
          "fill": "#b5b5b5",
          "stroke": "#575757"
         },
         "altUp": {
          "fill": "#5090dc",
          "stroke": "#2b5c95"
         },
         "down": {
          "fill": "#ef5452",
          "stroke": "#a82529"
         },
         "fills": [
          "#6568A0",
          "#43D7A4",
          "#4095DB",
          "#FACC5F",
          "#CAE279",
          "#F08083",
          "#5BCDF2",
          "#F099DC",
          "#965858",
          "#7DB64F",
          "#A98954"
         ],
         "neutral": {
          "fill": "#b5b5b5",
          "stroke": "#575757"
         },
         "strokes": [
          "#6568A0",
          "#43D7A4",
          "#4095DB",
          "#FACC5F",
          "#CAE279",
          "#F08083",
          "#5BCDF2",
          "#F099DC",
          "#965858",
          "#7DB64F",
          "#A98954"
         ],
         "up": {
          "fill": "#459d55",
          "stroke": "#1e652e"
         }
        },
        "chartThemeName": "datalabTheme",
        "chartType": "groupedColumn",
        "modelType": "range",
        "suppressChartRanges": false,
        "switchCategorySeries": false,
        "unlinkChart": false,
        "version": "32.2.2"
       },
       "rangeChartModel": {
        "rangeColumns": [],
        "switchCategorySeries": false
       }
      },
      "height": 264,
      "tableState": {
       "customFilter": {
        "const": {
         "type": "boolean",
         "valid": true,
         "value": true
        },
        "id": "a7dc1c67-ba7e-48c7-a201-b330232c562d",
        "nodeType": "const"
       },
       "quickFilterText": ""
      },
      "type": "dataFrame"
     }
    },
    "version": "ag-charts-v1",
    "visualizeDataframe": false
   },
   "outputs": [
    {
     "data": {
      "text/html": [
       "<div>\n",
       "<style scoped>\n",
       "    .dataframe tbody tr th:only-of-type {\n",
       "        vertical-align: middle;\n",
       "    }\n",
       "\n",
       "    .dataframe tbody tr th {\n",
       "        vertical-align: top;\n",
       "    }\n",
       "\n",
       "    .dataframe thead th {\n",
       "        text-align: right;\n",
       "    }\n",
       "</style>\n",
       "<table border=\"1\" class=\"dataframe\">\n",
       "  <thead>\n",
       "    <tr style=\"text-align: right;\">\n",
       "      <th></th>\n",
       "      <th>DR_NO</th>\n",
       "      <th>Date Rptd</th>\n",
       "      <th>DATE OCC</th>\n",
       "      <th>TIME OCC</th>\n",
       "      <th>AREA NAME</th>\n",
       "      <th>Crm Cd Desc</th>\n",
       "      <th>Vict Age</th>\n",
       "      <th>Vict Sex</th>\n",
       "      <th>Vict Descent</th>\n",
       "      <th>Weapon Desc</th>\n",
       "      <th>Status Desc</th>\n",
       "      <th>LOCATION</th>\n",
       "    </tr>\n",
       "  </thead>\n",
       "  <tbody>\n",
       "    <tr>\n",
       "      <th>0</th>\n",
       "      <td>220314085</td>\n",
       "      <td>2022-07-22</td>\n",
       "      <td>2020-05-12</td>\n",
       "      <td>1110</td>\n",
       "      <td>Southwest</td>\n",
       "      <td>THEFT OF IDENTITY</td>\n",
       "      <td>27</td>\n",
       "      <td>F</td>\n",
       "      <td>B</td>\n",
       "      <td>NaN</td>\n",
       "      <td>Invest Cont</td>\n",
       "      <td>2500 S  SYCAMORE                     AV</td>\n",
       "    </tr>\n",
       "    <tr>\n",
       "      <th>1</th>\n",
       "      <td>222013040</td>\n",
       "      <td>2022-08-06</td>\n",
       "      <td>2020-06-04</td>\n",
       "      <td>1620</td>\n",
       "      <td>Olympic</td>\n",
       "      <td>THEFT OF IDENTITY</td>\n",
       "      <td>60</td>\n",
       "      <td>M</td>\n",
       "      <td>H</td>\n",
       "      <td>NaN</td>\n",
       "      <td>Invest Cont</td>\n",
       "      <td>3300    SAN MARINO                   ST</td>\n",
       "    </tr>\n",
       "    <tr>\n",
       "      <th>2</th>\n",
       "      <td>220614831</td>\n",
       "      <td>2022-08-18</td>\n",
       "      <td>2020-08-17</td>\n",
       "      <td>1200</td>\n",
       "      <td>Hollywood</td>\n",
       "      <td>THEFT OF IDENTITY</td>\n",
       "      <td>28</td>\n",
       "      <td>M</td>\n",
       "      <td>H</td>\n",
       "      <td>NaN</td>\n",
       "      <td>Invest Cont</td>\n",
       "      <td>1900    TRANSIENT</td>\n",
       "    </tr>\n",
       "    <tr>\n",
       "      <th>3</th>\n",
       "      <td>231207725</td>\n",
       "      <td>2023-02-27</td>\n",
       "      <td>2020-01-27</td>\n",
       "      <td>0635</td>\n",
       "      <td>77th Street</td>\n",
       "      <td>THEFT OF IDENTITY</td>\n",
       "      <td>37</td>\n",
       "      <td>M</td>\n",
       "      <td>H</td>\n",
       "      <td>NaN</td>\n",
       "      <td>Invest Cont</td>\n",
       "      <td>6200    4TH                          AV</td>\n",
       "    </tr>\n",
       "    <tr>\n",
       "      <th>4</th>\n",
       "      <td>220213256</td>\n",
       "      <td>2022-07-14</td>\n",
       "      <td>2020-07-14</td>\n",
       "      <td>0900</td>\n",
       "      <td>Rampart</td>\n",
       "      <td>THEFT OF IDENTITY</td>\n",
       "      <td>79</td>\n",
       "      <td>M</td>\n",
       "      <td>B</td>\n",
       "      <td>NaN</td>\n",
       "      <td>Invest Cont</td>\n",
       "      <td>1200 W  7TH                          ST</td>\n",
       "    </tr>\n",
       "  </tbody>\n",
       "</table>\n",
       "</div>"
      ],
      "text/plain": [
       "       DR_NO  Date Rptd   DATE OCC TIME OCC    AREA NAME        Crm Cd Desc  \\\n",
       "0  220314085 2022-07-22 2020-05-12     1110    Southwest  THEFT OF IDENTITY   \n",
       "1  222013040 2022-08-06 2020-06-04     1620      Olympic  THEFT OF IDENTITY   \n",
       "2  220614831 2022-08-18 2020-08-17     1200    Hollywood  THEFT OF IDENTITY   \n",
       "3  231207725 2023-02-27 2020-01-27     0635  77th Street  THEFT OF IDENTITY   \n",
       "4  220213256 2022-07-14 2020-07-14     0900      Rampart  THEFT OF IDENTITY   \n",
       "\n",
       "   Vict Age Vict Sex Vict Descent Weapon Desc  Status Desc  \\\n",
       "0        27        F            B         NaN  Invest Cont   \n",
       "1        60        M            H         NaN  Invest Cont   \n",
       "2        28        M            H         NaN  Invest Cont   \n",
       "3        37        M            H         NaN  Invest Cont   \n",
       "4        79        M            B         NaN  Invest Cont   \n",
       "\n",
       "                                  LOCATION  \n",
       "0  2500 S  SYCAMORE                     AV  \n",
       "1  3300    SAN MARINO                   ST  \n",
       "2                        1900    TRANSIENT  \n",
       "3  6200    4TH                          AV  \n",
       "4  1200 W  7TH                          ST  "
      ]
     },
     "execution_count": 10,
     "metadata": {},
     "output_type": "execute_result"
    }
   ],
   "source": [
    "# Re-run this cell\n",
    "# Import required libraries\n",
    "import pandas as pd\n",
    "import numpy as np\n",
    "import matplotlib.pyplot as plt\n",
    "import seaborn as sns\n",
    "import os\n",
    "\n",
    "# Obtener la ruta del archivo\n",
    "base_path = os.getcwd()\n",
    "ruta_archivo = os.path.join(base_path, \"..\", \"..\", \"Archivos\", \"crimes.csv\")\n",
    "ruta_archivo = os.path.normpath(ruta_archivo) \n",
    "\n",
    "\n",
    "crimes = pd.read_csv(ruta_archivo, parse_dates=['Date Rptd', 'DATE OCC'], dtype={\"TIME OCC\": str} )\n",
    "crimes.head()"
   ]
  },
  {
   "cell_type": "code",
   "execution_count": 11,
   "id": "ef46d032-7769-4ba3-882d-9ee45c8897b1",
   "metadata": {
    "executionCancelledAt": null,
    "executionTime": 47,
    "lastExecutedAt": 1753221712801,
    "lastExecutedByKernel": "6615b38a-f12e-4ab3-ac41-29bdd80e2ab1",
    "lastScheduledRunId": null,
    "lastSuccessfullyExecutedCode": "crimes.shape"
   },
   "outputs": [
    {
     "data": {
      "text/plain": [
       "(185715, 12)"
      ]
     },
     "execution_count": 11,
     "metadata": {},
     "output_type": "execute_result"
    }
   ],
   "source": [
    "crimes.shape"
   ]
  },
  {
   "cell_type": "code",
   "execution_count": 12,
   "id": "d7aebf98-6bc7-45a4-98b3-9ee04d029f7e",
   "metadata": {
    "collapsed": false,
    "executionCancelledAt": null,
    "executionTime": 181,
    "jupyter": {
     "outputs_hidden": false,
     "source_hidden": false
    },
    "lastExecutedAt": 1753221712982,
    "lastExecutedByKernel": "6615b38a-f12e-4ab3-ac41-29bdd80e2ab1",
    "lastScheduledRunId": null,
    "lastSuccessfullyExecutedCode": "crimes.info()",
    "outputsMetadata": {
     "0": {
      "height": 416,
      "type": "stream"
     }
    }
   },
   "outputs": [
    {
     "name": "stdout",
     "output_type": "stream",
     "text": [
      "<class 'pandas.core.frame.DataFrame'>\n",
      "RangeIndex: 185715 entries, 0 to 185714\n",
      "Data columns (total 12 columns):\n",
      " #   Column        Non-Null Count   Dtype         \n",
      "---  ------        --------------   -----         \n",
      " 0   DR_NO         185715 non-null  int64         \n",
      " 1   Date Rptd     185715 non-null  datetime64[ns]\n",
      " 2   DATE OCC      185715 non-null  datetime64[ns]\n",
      " 3   TIME OCC      185715 non-null  object        \n",
      " 4   AREA NAME     185715 non-null  object        \n",
      " 5   Crm Cd Desc   185715 non-null  object        \n",
      " 6   Vict Age      185715 non-null  int64         \n",
      " 7   Vict Sex      185704 non-null  object        \n",
      " 8   Vict Descent  185705 non-null  object        \n",
      " 9   Weapon Desc   73502 non-null   object        \n",
      " 10  Status Desc   185715 non-null  object        \n",
      " 11  LOCATION      185715 non-null  object        \n",
      "dtypes: datetime64[ns](2), int64(2), object(8)\n",
      "memory usage: 17.0+ MB\n"
     ]
    }
   ],
   "source": [
    "crimes.info()"
   ]
  },
  {
   "cell_type": "code",
   "execution_count": 13,
   "id": "53eada96-447c-46c3-9848-f4ca3de53d06",
   "metadata": {
    "executionCancelledAt": null,
    "executionTime": 892,
    "lastExecutedAt": 1753221713874,
    "lastExecutedByKernel": "6615b38a-f12e-4ab3-ac41-29bdd80e2ab1",
    "lastScheduledRunId": null,
    "lastSuccessfullyExecutedCode": "# --------------- 1. Hora mayor frecuencia de delitos -------------------------------------\n\n# 1.1 Creando una columna con la hora que se cometio el delito\ncrimes['HOUR OCC'] = crimes['TIME OCC'].str[:2].astype(int)\n\n# 1.2 Gráfico de hora con mayor frecuencia de delitos\nsns.set_context(\"paper\")\nsns.set_style(\"whitegrid\")\ng = sns.countplot(data=crimes, x='HOUR OCC', palette='rocket')\ng.figure.suptitle('Hora con mayor frecuencia de delitos', y=0.95)\ng.set(\n    xlabel='Hora',\n    ylabel='Frecuencia'\n)\n\n",
    "outputsMetadata": {
     "0": {
      "height": 50,
      "tableState": {
       "customFilter": {
        "const": {
         "type": "boolean",
         "valid": true,
         "value": true
        },
        "id": "a7dc1c67-ba7e-48c7-a201-b330232c562d",
        "nodeType": "const"
       }
      },
      "type": "dataFrame"
     }
    }
   },
   "outputs": [
    {
     "data": {
      "image/png": "[encoded data removed]",
      "text/plain": [
       "<Figure size 640x480 with 1 Axes>"
      ]
     },
     "metadata": {},
     "output_type": "display_data"
    }
   ],
   "source": [
    "# --------------- 1. Hora mayor frecuencia de delitos -------------------------------------\n",
    "\n",
    "# 1.1 Creando una columna con la hora que se cometio el delito\n",
    "crimes['HOUR OCC'] = crimes['TIME OCC'].str[:2].astype(int)\n",
    "\n",
    "# 1.2 Gráfico de hora con mayor frecuencia de delitos\n",
    "sns.set_context(\"paper\")\n",
    "sns.set_style(\"whitegrid\")\n",
    "g = sns.countplot(\n",
    "                 data=crimes, \n",
    "                 x='HOUR OCC', \n",
    "                 hue='HOUR OCC',          # Misma variable que x (Para quitar el error de palette se agrego hue)\n",
    "                 palette='rocket',\n",
    "                 legend=False             # Oculta la leyenda redundante\n",
    "                 )\n",
    "g.figure.suptitle('Hora con mayor frecuencia de delitos', y=0.95)\n",
    "g.set(\n",
    "    xlabel='Hora',\n",
    "    ylabel='Frecuencia'\n",
    ")\n",
    "\n",
    "plt.grid(axis='y', alpha=0.4)  # Líneas de grid horizontales tenues\n",
    "plt.tight_layout()\n",
    "\n"
   ]
  },
  {
   "cell_type": "code",
   "execution_count": 14,
   "id": "59a4c36b-38c8-4f5d-97fc-69cf2b467008",
   "metadata": {
    "executionCancelledAt": null,
    "executionTime": 51,
    "lastExecutedAt": 1753221713925,
    "lastExecutedByKernel": "6615b38a-f12e-4ab3-ac41-29bdd80e2ab1",
    "lastScheduledRunId": null,
    "lastSuccessfullyExecutedCode": "# 1.3 Hora con mayor frecuencia de crimenes\npeak_crime_hour = crimes['HOUR OCC'].value_counts().idxmax()\n\nprint(f\"La hora con más crímenes es: {peak_crime_hour}\")",
    "outputsMetadata": {
     "0": {
      "height": 38,
      "type": "stream"
     }
    }
   },
   "outputs": [
    {
     "name": "stdout",
     "output_type": "stream",
     "text": [
      "La hora con más crímenes es: 12\n"
     ]
    }
   ],
   "source": [
    "# 1.3 Hora con mayor frecuencia de crimenes\n",
    "peak_crime_hour = crimes['HOUR OCC'].value_counts().idxmax()\n",
    "\n",
    "print(f\"La hora con más crímenes es: {peak_crime_hour}\")"
   ]
  },
  {
   "cell_type": "code",
   "execution_count": 15,
   "id": "81febb36-86ab-4cfd-a097-4d716ac9fa39",
   "metadata": {
    "executionCancelledAt": null,
    "executionTime": 57,
    "lastExecutedAt": 1753221713982,
    "lastExecutedByKernel": "6615b38a-f12e-4ab3-ac41-29bdd80e2ab1",
    "lastScheduledRunId": null,
    "lastSuccessfullyExecutedCode": "# ----------------------- 2. Area con mayor frecuencia de delitos nocturnos ---------------------\n\n\n# 2.1 Creando Dataframe de crimenes comentido en las horas 10 pm hasta 3 am\ndelitos_nocturnos = crimes[crimes['HOUR OCC'].isin([22, 23, 0, 1, 2, 3])]\n\n# 2.2 Cuenta el numero de delitos por Area y devuelve la zona con mas numero de asaltos\npeak_night_crime_location = (delitos_nocturnos.groupby('AREA NAME')\n                                .size()\n                                .sort_values(ascending=False)\n                                .index[0] \n                             )\n\n\nprint(f\"Área con mayor frecuencia de delitos nocturnos: {peak_night_crime_location}\") ",
    "outputsMetadata": {
     "0": {
      "height": 38,
      "type": "stream"
     }
    }
   },
   "outputs": [
    {
     "name": "stdout",
     "output_type": "stream",
     "text": [
      "Área con mayor frecuencia de delitos nocturnos: Central\n"
     ]
    }
   ],
   "source": [
    "# ----------------------- 2. Area con mayor frecuencia de delitos nocturnos ---------------------\n",
    "\n",
    "\n",
    "# 2.1 Creando Dataframe de crimenes comentido en las horas 10 pm hasta 3 am\n",
    "delitos_nocturnos = crimes[crimes['HOUR OCC'].isin([22, 23, 0, 1, 2, 3])]\n",
    "\n",
    "# 2.2 Cuenta el numero de delitos por Area y devuelve la zona con mas numero de asaltos\n",
    "peak_night_crime_location = (delitos_nocturnos.groupby('AREA NAME')\n",
    "                                .size()\n",
    "                                .sort_values(ascending=False)\n",
    "                                .index[0] \n",
    "                             )\n",
    "\n",
    "\n",
    "print(f\"Área con mayor frecuencia de delitos nocturnos: {peak_night_crime_location}\") "
   ]
  },
  {
   "cell_type": "code",
   "execution_count": 16,
   "id": "6180edd9-d551-4ac7-abcf-9a30d1fade77",
   "metadata": {
    "executionCancelledAt": null,
    "executionTime": 54,
    "lastExecutedAt": 1753221714037,
    "lastExecutedByKernel": "6615b38a-f12e-4ab3-ac41-29bdd80e2ab1",
    "lastScheduledRunId": null,
    "lastSuccessfullyExecutedCode": "# -------- 3. Identificar el número de delitos cometidos contra victimas por grupos de edad\n\n# 3.1 Definiendo los limites de edad (bins)\nage_bins = [0, 17, 25, 34, 44, 54, 64, float('inf')]\n\n# 3.2 Creando los labels de cada categoria\nvictim_labels = [\"0-17\", \"18-25\", \"26-34\", \"35-44\", \"45-54\", \"55-64\", \"65+\"]\n\n# 3.3 Realizar la clasificación de las victimas por edad\ncrimes['Age Bracket'] = pd.cut(\n    crimes['Vict Age'],\n    bins=age_bins,\n    labels=victim_labels\n)\n",
    "outputsMetadata": {
     "0": {
      "height": 50,
      "tableState": {
       "customFilter": {
        "const": {
         "type": "boolean",
         "valid": true,
         "value": true
        },
        "id": "a44db09e-15df-438f-96a4-0d1b16f612ef",
        "nodeType": "const"
       }
      },
      "type": "dataFrame"
     }
    }
   },
   "outputs": [],
   "source": [
    "# -------- 3. Identificar el número de delitos cometidos contra victimas por grupos de edad\n",
    "\n",
    "# 3.1 Definiendo los limites de edad (bins)\n",
    "age_bins = [0, 17, 25, 34, 44, 54, 64, float('inf')]\n",
    "\n",
    "# 3.2 Creando los labels de cada categoria\n",
    "victim_labels = [\"0-17\", \"18-25\", \"26-34\", \"35-44\", \"45-54\", \"55-64\", \"65+\"]\n",
    "\n",
    "# 3.3 Realizar la clasificación de las victimas por edad\n",
    "crimes['Age Bracket'] = pd.cut(\n",
    "    crimes['Vict Age'],\n",
    "    bins=age_bins,\n",
    "    labels=victim_labels\n",
    ")\n"
   ]
  },
  {
   "cell_type": "code",
   "execution_count": 17,
   "id": "e4127022-069c-4ebf-b840-7ff922fe25e5",
   "metadata": {
    "executionCancelledAt": null,
    "executionTime": 48,
    "lastExecutedAt": 1753221714085,
    "lastExecutedByKernel": "6615b38a-f12e-4ab3-ac41-29bdd80e2ab1",
    "lastScheduledRunId": null,
    "lastSuccessfullyExecutedCode": "# 3.4 Conteo de los delitos cometido por grupo\n\nvictim_ages = crimes['Age Bracket'].value_counts().rename('Cantidad')\nvictim_ages",
    "outputsMetadata": {
     "0": {
      "height": 50,
      "tableState": {
       "customFilter": {
        "const": {
         "type": "boolean",
         "valid": true,
         "value": true
        },
        "id": "a44db09e-15df-438f-96a4-0d1b16f612ef",
        "nodeType": "const"
       }
      },
      "type": "dataFrame"
     }
    }
   },
   "outputs": [
    {
     "data": {
      "text/plain": [
       "Age Bracket\n",
       "26-34    47470\n",
       "35-44    42157\n",
       "45-54    28353\n",
       "18-25    28291\n",
       "55-64    20169\n",
       "65+      14747\n",
       "0-17      4528\n",
       "Name: Cantidad, dtype: int64"
      ]
     },
     "execution_count": 17,
     "metadata": {},
     "output_type": "execute_result"
    }
   ],
   "source": [
    "# 3.4 Conteo de los delitos cometido por grupo\n",
    "\n",
    "victim_ages = crimes['Age Bracket'].value_counts().rename('Cantidad')\n",
    "victim_ages"
   ]
  },
  {
   "cell_type": "code",
   "execution_count": 18,
   "id": "d89b46b7-532e-4b25-ac9e-a66a92da660b",
   "metadata": {
    "executionCancelledAt": null,
    "executionTime": 331,
    "lastExecutedAt": 1753221714416,
    "lastExecutedByKernel": "6615b38a-f12e-4ab3-ac41-29bdd80e2ab1",
    "lastScheduledRunId": null,
    "lastSuccessfullyExecutedCode": "# 3.5 Grafico de delitos cometidos por victimas por grupo de edad\ng = sns.barplot(x=victim_ages.index, y=victim_ages.values, palette='mako')\ng.figure.suptitle('Delitos cometidos contra victimas por grupo de edad', y='0.95')\ng.set(\n    xlabel='Grupo de Edades',\n    ylabel='Frecuencia'\n)"
   },
   "outputs": [
    {
     "data": {
      "text/plain": [
       "[Text(0.5, 0, 'Grupo de Edades'), Text(0, 0.5, 'Frecuencia')]"
      ]
     },
     "execution_count": 18,
     "metadata": {},
     "output_type": "execute_result"
    },
    {
     "data": {
      "image/png": "[encoded data removed]",
      "text/plain": [
       "<Figure size 640x480 with 1 Axes>"
      ]
     },
     "metadata": {},
     "output_type": "display_data"
    }
   ],
   "source": [
    "# 3.5 Grafico de delitos cometidos por victimas por grupo de edad\n",
    "g = sns.barplot(\n",
    "    x=victim_ages.index, \n",
    "    y=victim_ages.values,\n",
    "    hue=victim_ages.index,    # Misma variable que x (Para quitar el error de palette se agrego hue)\n",
    "    palette='mako',    \n",
    "    legend=False               # Oculta la leyenda redundante   \n",
    "    )\n",
    "g.figure.suptitle('Delitos cometidos contra victimas por grupo de edad', y='0.95')\n",
    "g.set(\n",
    "    xlabel='Grupo de Edades',\n",
    "    ylabel='Frecuencia'\n",
    ")"
   ]
  }
 ],
 "metadata": {
  "colab": {
   "name": "Welcome to DataCamp Workspaces.ipynb",
   "provenance": []
  },
  "kernelspec": {
   "display_name": ".venv (3.13.3)",
   "language": "python",
   "name": "python3"
  },
  "language_info": {
   "codemirror_mode": {
    "name": "ipython",
    "version": 3
   },
   "file_extension": ".py",
   "mimetype": "text/x-python",
   "name": "python",
   "nbconvert_exporter": "python",
   "pygments_lexer": "ipython3",
   "version": "3.13.3"
  }
 },
 "nbformat": 4,
 "nbformat_minor": 5
}
